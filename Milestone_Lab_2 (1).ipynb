{
 "cells": [
  {
   "cell_type": "markdown",
   "id": "91dc1bab-11ea-4a3a-817a-7597ea6ce03e",
   "metadata": {
    "id": "91dc1bab-11ea-4a3a-817a-7597ea6ce03e"
   },
   "source": [
    "### Enter your name - Your ID"
   ]
  },
  {
   "cell_type": "code",
   "execution_count": null,
   "id": "137b56d7-35fd-4aeb-ac4b-45a897259c00",
   "metadata": {},
   "outputs": [],
   "source": []
  },
  {
   "cell_type": "raw",
   "id": "b0ae2aac-4e0e-4c7d-8924-5a096e45ef55",
   "metadata": {
    "id": "b0ae2aac-4e0e-4c7d-8924-5a096e45ef55"
   },
   "source": [
    "Add your name - your ID here (double click on the cell to modify it).\n",
    "name:katreen william\n",
    "id:221001947"
   ]
  },
  {
   "cell_type": "markdown",
   "id": "2f60ba71-a3d6-485d-aaef-b880526e6253",
   "metadata": {
    "id": "2f60ba71-a3d6-485d-aaef-b880526e6253"
   },
   "source": [
    "# 1) Milestone Lab 2 Questions <span style=\"color:red\"> (Total marks: 20 marks) </span>"
   ]
  },
  {
   "cell_type": "code",
   "execution_count": 14,
   "id": "7be41bbd-6ced-47d5-ac68-5d21df4b3faa",
   "metadata": {
    "id": "7be41bbd-6ced-47d5-ac68-5d21df4b3faa"
   },
   "outputs": [
    {
     "ename": "ModuleNotFoundError",
     "evalue": "No module named 'seaborn'",
     "output_type": "error",
     "traceback": [
      "\u001b[1;31m---------------------------------------------------------------------------\u001b[0m",
      "\u001b[1;31mModuleNotFoundError\u001b[0m                       Traceback (most recent call last)",
      "Cell \u001b[1;32mIn[14], line 4\u001b[0m\n\u001b[0;32m      2\u001b[0m \u001b[38;5;28;01mimport\u001b[39;00m \u001b[38;5;21;01mnumpy\u001b[39;00m \u001b[38;5;28;01mas\u001b[39;00m \u001b[38;5;21;01mnp\u001b[39;00m\n\u001b[0;32m      3\u001b[0m \u001b[38;5;28;01mimport\u001b[39;00m \u001b[38;5;21;01mmatplotlib\u001b[39;00m\u001b[38;5;21;01m.\u001b[39;00m\u001b[38;5;21;01mpyplot\u001b[39;00m \u001b[38;5;28;01mas\u001b[39;00m \u001b[38;5;21;01mplt\u001b[39;00m\n\u001b[1;32m----> 4\u001b[0m \u001b[38;5;28;01mimport\u001b[39;00m \u001b[38;5;21;01mseaborn\u001b[39;00m \u001b[38;5;28;01mas\u001b[39;00m \u001b[38;5;21;01msns\u001b[39;00m\n",
      "\u001b[1;31mModuleNotFoundError\u001b[0m: No module named 'seaborn'"
     ]
    }
   ],
   "source": [
    "import pandas as pdF\n",
    "import numpy as np\n",
    "import matplotlib.pyplot as plt\n",
    "import seaborn as sns"
   ]
  },
  {
   "cell_type": "code",
   "execution_count": 13,
   "id": "56377af1-5a8e-4969-b009-476d5d4a96c6",
   "metadata": {},
   "outputs": [
    {
     "name": "stdout",
     "output_type": "stream",
     "text": [
      "Requirement already satisfied: matplotlib in c:\\users\\administrator\\appdata\\local\\programs\\python\\python313\\lib\\site-packages (3.9.3)\n",
      "Requirement already satisfied: contourpy>=1.0.1 in c:\\users\\administrator\\appdata\\local\\programs\\python\\python313\\lib\\site-packages (from matplotlib) (1.3.1)\n",
      "Requirement already satisfied: cycler>=0.10 in c:\\users\\administrator\\appdata\\local\\programs\\python\\python313\\lib\\site-packages (from matplotlib) (0.12.1)\n",
      "Requirement already satisfied: fonttools>=4.22.0 in c:\\users\\administrator\\appdata\\local\\programs\\python\\python313\\lib\\site-packages (from matplotlib) (4.55.3)\n",
      "Requirement already satisfied: kiwisolver>=1.3.1 in c:\\users\\administrator\\appdata\\local\\programs\\python\\python313\\lib\\site-packages (from matplotlib) (1.4.7)\n",
      "Requirement already satisfied: numpy>=1.23 in c:\\users\\administrator\\appdata\\local\\programs\\python\\python313\\lib\\site-packages (from matplotlib) (2.2.0)\n",
      "Requirement already satisfied: packaging>=20.0 in c:\\users\\administrator\\appdata\\local\\programs\\python\\python313\\lib\\site-packages (from matplotlib) (24.2)\n",
      "Requirement already satisfied: pillow>=8 in c:\\users\\administrator\\appdata\\local\\programs\\python\\python313\\lib\\site-packages (from matplotlib) (11.0.0)\n",
      "Requirement already satisfied: pyparsing>=2.3.1 in c:\\users\\administrator\\appdata\\local\\programs\\python\\python313\\lib\\site-packages (from matplotlib) (3.2.0)\n",
      "Requirement already satisfied: python-dateutil>=2.7 in c:\\users\\administrator\\appdata\\local\\programs\\python\\python313\\lib\\site-packages (from matplotlib) (2.9.0.post0)\n",
      "Requirement already satisfied: six>=1.5 in c:\\users\\administrator\\appdata\\local\\programs\\python\\python313\\lib\\site-packages (from python-dateutil>=2.7->matplotlib) (1.17.0)\n",
      "Note: you may need to restart the kernel to use updated packages.\n"
     ]
    },
    {
     "name": "stderr",
     "output_type": "stream",
     "text": [
      "\n",
      "[notice] A new release of pip is available: 24.2 -> 24.3.1\n",
      "[notice] To update, run: python.exe -m pip install --upgrade pip\n"
     ]
    }
   ],
   "source": [
    "pip install matplotlib\n"
   ]
  },
  {
   "cell_type": "code",
   "execution_count": null,
   "id": "3c7c7311-e4cc-4ade-adfb-7859485b3706",
   "metadata": {},
   "outputs": [],
   "source": []
  },
  {
   "cell_type": "code",
   "execution_count": 7,
   "id": "317fbf23-9e8f-4035-9bcb-7346257f75d3",
   "metadata": {
    "id": "317fbf23-9e8f-4035-9bcb-7346257f75d3"
   },
   "outputs": [
    {
     "ename": "NameError",
     "evalue": "name 'pd' is not defined",
     "output_type": "error",
     "traceback": [
      "\u001b[1;31m---------------------------------------------------------------------------\u001b[0m",
      "\u001b[1;31mNameError\u001b[0m                                 Traceback (most recent call last)",
      "Cell \u001b[1;32mIn[7], line 1\u001b[0m\n\u001b[1;32m----> 1\u001b[0m df \u001b[38;5;241m=\u001b[39m \u001b[43mpd\u001b[49m\u001b[38;5;241m.\u001b[39mread_csv(\u001b[38;5;124m'\u001b[39m\u001b[38;5;124m.csv\u001b[39m\u001b[38;5;124m'\u001b[39m)\n\u001b[0;32m      2\u001b[0m df\n",
      "\u001b[1;31mNameError\u001b[0m: name 'pd' is not defined"
     ]
    }
   ],
   "source": [
    "df = pd.read_csv('C:\\Users\\Administrator\\Downloads.csv')\n",
    "df"
   ]
  },
  {
   "cell_type": "markdown",
   "id": "71680dd3-0eb9-4126-94b2-04656ba2107e",
   "metadata": {
    "id": "71680dd3-0eb9-4126-94b2-04656ba2107e"
   },
   "source": [
    "### **Q1) Drop the column 'ID' <span style=\"color:red\"> </span>**"
   ]
  },
  {
   "cell_type": "code",
   "execution_count": null,
   "id": "b46a843c-1b08-4ac1-abde-83b2c0857768",
   "metadata": {
    "id": "b46a843c-1b08-4ac1-abde-83b2c0857768"
   },
   "outputs": [],
   "source": [
    "# Add your code here\n",
    "df.drop(['Unnamed: 0'],axis=1, inplace=True)"
   ]
  },
  {
   "cell_type": "markdown",
   "id": "52b3da10-edd2-41ba-ab73-7370b323f81c",
   "metadata": {
    "id": "52b3da10-edd2-41ba-ab73-7370b323f81c"
   },
   "source": [
    "### **Q2) Check if there are any missing values and fill them with the suitable technique if exists. <span style=\"color:red\"> (3 marks) </span>**"
   ]
  },
  {
   "cell_type": "code",
   "execution_count": null,
   "id": "b9950565-b0bd-4a5f-ae12-ee6a766c7328",
   "metadata": {
    "id": "b9950565-b0bd-4a5f-ae12-ee6a766c7328"
   },
   "outputs": [],
   "source": [
    "# Add your code here\n",
    "df.isna().sum()"
   ]
  },
  {
   "cell_type": "code",
   "execution_count": null,
   "id": "60f97091-e1c9-4653-9204-39e48c355aa3",
   "metadata": {},
   "outputs": [],
   "source": [
    "# Add your code here\n",
    "df['Administration'] = df['Administration'].fillna(df['Administration'].median())\n",
    "df['State'] = df['State'].fillna(df['State'].mode()[0])"
   ]
  },
  {
   "cell_type": "code",
   "execution_count": 4,
   "id": "801f2f19-9253-44e1-b611-431e6db1b89b",
   "metadata": {},
   "outputs": [
    {
     "ename": "NameError",
     "evalue": "name 'df' is not defined",
     "output_type": "error",
     "traceback": [
      "\u001b[1;31m---------------------------------------------------------------------------\u001b[0m",
      "\u001b[1;31mNameError\u001b[0m                                 Traceback (most recent call last)",
      "Cell \u001b[1;32mIn[4], line 2\u001b[0m\n\u001b[0;32m      1\u001b[0m \u001b[38;5;66;03m# Add your code here\u001b[39;00m\n\u001b[1;32m----> 2\u001b[0m \u001b[43mdf\u001b[49m\u001b[38;5;241m.\u001b[39misna()\u001b[38;5;241m.\u001b[39msum()\n",
      "\u001b[1;31mNameError\u001b[0m: name 'df' is not defined"
     ]
    }
   ],
   "source": [
    "# Add your code here\n",
    "df.isna().sum()"
   ]
  },
  {
   "cell_type": "markdown",
   "id": "duEXm9Q4Zjy7",
   "metadata": {
    "id": "duEXm9Q4Zjy7"
   },
   "source": [
    "### **Q3) Check if there are any duplicate rows and handle them if exists. <span style=\"color:red\"> (1 marks) </span>**"
   ]
  },
  {
   "cell_type": "code",
   "execution_count": null,
   "id": "5e8aa4d5",
   "metadata": {
    "id": "5e8aa4d5"
   },
   "outputs": [],
   "source": [
    "# Add your code here\n",
    "df.duplicated().sum()\n"
   ]
  },
  {
   "cell_type": "code",
   "execution_count": null,
   "id": "e2da6f64-b446-47f1-b063-38c5d7d3e3a3",
   "metadata": {},
   "outputs": [],
   "source": [
    "# drop duplicates\n",
    "## your code here\n",
    "\n",
    "df.drop_duplicates(inplace = True)"
   ]
  },
  {
   "cell_type": "code",
   "execution_count": null,
   "id": "1347d874-0fee-401d-9dae-0928dba6ec64",
   "metadata": {},
   "outputs": [],
   "source": [
    "# confirm correction by rechecking for duplicates in the data\n",
    "## your code here\n",
    "\n",
    "df.duplicated().sum()"
   ]
  },
  {
   "cell_type": "markdown",
   "id": "jIUTU6Zvc_ha",
   "metadata": {
    "id": "jIUTU6Zvc_ha"
   },
   "source": [
    "### **Q4) Convert the Joining Date column to a datetime format, and extract useful features like Year, Month, or Hour. <span style=\"color:red\"> (2 marks) </span>**"
   ]
  },
  {
   "cell_type": "code",
   "execution_count": null,
   "id": "c46ed4ee",
   "metadata": {
    "id": "c46ed4ee"
   },
   "outputs": [],
   "source": [
    "\n",
    "data = {\n",
    "    'Joining Date': ['2022-05-12 08:45:00', '2021-11-25 14:30:00', '2023-01-05 09:15:00']\n",
    "}\n",
    "\n"
   ]
  },
  {
   "cell_type": "code",
   "execution_count": null,
   "id": "8f4c944d-b9e1-4021-a5a2-eb17b296d8c0",
   "metadata": {},
   "outputs": [],
   "source": [
    "# Create DataFrame\n",
    "df = pd.DataFrame(data)"
   ]
  },
  {
   "cell_type": "markdown",
   "id": "WTaO_ufndJEd",
   "metadata": {
    "id": "WTaO_ufndJEd"
   },
   "source": [
    "### **Q5) Rename columns to ensure they do not contain spaces or special characters (e.g., replace spaces, underscores) <span style=\"color:red\"> (3 marks) </span>**\n",
    "Hint: \"Omar\".replace('O','A') --> \"Amar\""
   ]
  },
  {
   "cell_type": "code",
   "execution_count": null,
   "id": "m4mGMx33dOdt",
   "metadata": {
    "id": "m4mGMx33dOdt"
   },
   "outputs": [],
   "source": [
    "# Add your code here\n",
    "# remove \"_mean\" from column names\n",
    "new_labels = []\n",
    "for col in df.columns:\n",
    "    if '_mean' in col:\n",
    "        new_labels.append(col[:-5])  # exclude last 6 characters\n",
    "    else:\n",
    "        new_labels.append(col)\n",
    "\n",
    "# new labels for our columns\n",
    "new_labels"
   ]
  },
  {
   "cell_type": "code",
   "execution_count": null,
   "id": "e123c528-f3f5-4f77-8708-42e7b6576670",
   "metadata": {},
   "outputs": [],
   "source": [
    "# assign new labels to columns in dataframe\n",
    "## your code here\n",
    "df.columns = new_labels"
   ]
  },
  {
   "cell_type": "code",
   "execution_count": null,
   "id": "78a4ece5-6ed1-4daa-94da-a6e57e0d67cc",
   "metadata": {},
   "outputs": [],
   "source": [
    "# display first few rows of dataframe to confirm changes\n",
    "df.head()"
   ]
  },
  {
   "cell_type": "markdown",
   "id": "f6519105-434e-451b-bde8-e766855d1a0f",
   "metadata": {
    "id": "f6519105-434e-451b-bde8-e766855d1a0f"
   },
   "source": [
    "### Q6) You task is doing the following: <span style=\"color:red\"></span>\n",
    "\n",
    "<p>2) 1) Identify the top 10 employees with the highest salaries? <span style=\"color:blue\"></span>. <span style=\"color:red\"> (1.5 marks) </span>\n",
    "\n",
    " <span style=\"color:green\"> 2) Calculate the average salary for each department.\n",
    " (1.5 marks)</span> </p2>"
   ]
  },
  {
   "cell_type": "code",
   "execution_count": null,
   "id": "30aae325",
   "metadata": {
    "id": "30aae325"
   },
   "outputs": [],
   "source": [
    "\n",
    "data = {\n",
    "    'Employee Name': ['John', 'Alice', 'Bob', 'Eva', 'Sam', 'Sophia', 'Max', 'Olivia', 'James', 'Lily', 'Emma', 'David'],\n",
    "    'Salary': [70000, 120000, 90000, 110000, 85000, 105000, 95000, 130000, 95000, 115000, 98000, 100000]\n",
    "}\n",
    "\n"
   ]
  },
  {
   "cell_type": "code",
   "execution_count": null,
   "id": "835ec1a4-360e-4279-ac4f-641d6d14fe67",
   "metadata": {},
   "outputs": [],
   "source": [
    "# Create DataFrame\n",
    "df = pd.DataFrame(data)"
   ]
  },
  {
   "cell_type": "code",
   "execution_count": null,
   "id": "7fdf8b04",
   "metadata": {
    "id": "7fdf8b04"
   },
   "outputs": [],
   "source": [
    "\n",
    "# Sort the DataFrame by the 'Salary' column in descending order\n",
    "top_10_employees = df.sort_values(by='Salary', ascending=False).head(10)"
   ]
  },
  {
   "cell_type": "code",
   "execution_count": null,
   "id": "04da2f3c-7e7e-4b47-99c8-de6aee064210",
   "metadata": {},
   "outputs": [],
   "source": [
    "# Display the top 10 employees with the highest salaries\n",
    "print(top_10_employees)"
   ]
  },
  {
   "cell_type": "markdown",
   "id": "699abf6e-18fb-47bb-a0af-8d590768e67c",
   "metadata": {
    "id": "699abf6e-18fb-47bb-a0af-8d590768e67c"
   },
   "source": [
    "### Q7) Explore the relationship between experience and salary. Does experience significantly impact salary? <span style=\"color:red\">(2 marks)</span>\n"
   ]
  },
  {
   "cell_type": "code",
   "execution_count": null,
   "id": "3b73dbb5-f27c-49cc-9b16-cdb6b6010fa7",
   "metadata": {
    "id": "3b73dbb5-f27c-49cc-9b16-cdb6b6010fa7"
   },
   "outputs": [],
   "source": [
    "# Add your code here\n",
    "data = {\n",
    "    'Experience (Years)': [1, 2, 3, 4, 5, 6, 7, 8, 9, 10],\n",
    "    'Salary': [50000, 55000, 60000, 65000, 70000, 75000, 80000, 85000, 90000, 95000]\n",
    "}\n",
    "\n",
    "\n"
   ]
  },
  {
   "cell_type": "code",
   "execution_count": null,
   "id": "2ff0ba55-b6c6-43b1-88c7-c48a5838a43c",
   "metadata": {},
   "outputs": [],
   "source": [
    "# Create DataFrame\n",
    "df = pd.DataFrame(data)"
   ]
  },
  {
   "cell_type": "code",
   "execution_count": null,
   "id": "6f0c4eb5-ee1f-442d-8a62-0177a0af7281",
   "metadata": {},
   "outputs": [],
   "source": [
    "#  Data Visualization - Scatter Plot\n",
    "plt.figure(figsize=(8, 6))\n",
    "sns.scatterplot(x='Experience (Years)', y='Salary', data=df)\n",
    "plt.title('Scatter Plot: Experience vs Salary')\n",
    "plt.xlabel('Experience (Years)')\n",
    "plt.ylabel('Salary')\n",
    "plt.show()"
   ]
  },
  {
   "cell_type": "code",
   "execution_count": null,
   "id": "8fc75611-b521-4e53-9e97-5979128da87f",
   "metadata": {},
   "outputs": [],
   "source": [
    "#  Correlation Calculation\n",
    "correlation = df['Experience (Years)'].corr(df['Salary'])\n",
    "print(f'Correlation between Experience and Salary: {correlation:.4f}')"
   ]
  },
  {
   "cell_type": "code",
   "execution_count": null,
   "id": "424d3a78-87b7-48a9-b44e-b60bc8cd7668",
   "metadata": {},
   "outputs": [],
   "source": [
    "\n",
    "X = df['Experience (Years)']  # Feature (independent variable)\n",
    "y = df['Salary']  # Target (dependent variable)"
   ]
  },
  {
   "cell_type": "code",
   "execution_count": null,
   "id": "1f13ce3a-8037-43b3-b274-4e091b1ba1e2",
   "metadata": {},
   "outputs": [],
   "source": [
    "# Adding a constant to the model for intercept\n",
    "X = sm.add_constant(X)"
   ]
  },
  {
   "cell_type": "code",
   "execution_count": null,
   "id": "a9a61b2e-5584-4d6f-a8f9-6425b87433e3",
   "metadata": {},
   "outputs": [],
   "source": [
    "# Create and fit the OLS model\n",
    "model = sm.OLS(y, X).fit()"
   ]
  },
  {
   "cell_type": "code",
   "execution_count": null,
   "id": "376ce9df-8fc2-42ed-b75d-b1beba5c6d9c",
   "metadata": {},
   "outputs": [],
   "source": [
    "# Get the regression summary\n",
    "print(model.summary())"
   ]
  },
  {
   "cell_type": "markdown",
   "id": "Ghqju4EQrqMO",
   "metadata": {
    "id": "Ghqju4EQrqMO"
   },
   "source": [
    "### Q8) Develop a heatmap to analyze correlations among numerical features? <span style=\"color:red\">(3 marks)</span>\n"
   ]
  },
  {
   "cell_type": "code",
   "execution_count": null,
   "id": "1611d46d",
   "metadata": {
    "id": "1611d46d"
   },
   "outputs": [],
   "source": [
    "# Add your code here"
   ]
  },
  {
   "cell_type": "markdown",
   "id": "d18d33ae-ffec-451b-ae56-225416672c1a",
   "metadata": {
    "id": "d18d33ae-ffec-451b-ae56-225416672c1a"
   },
   "source": [
    "## Q9) Create a boxplot to compare Focus_Time across different Class_Level categories. <span style=\"color:red\">(2 marks)</span>"
   ]
  },
  {
   "cell_type": "code",
   "execution_count": null,
   "id": "d95e92d2-4978-49df-86fa-7b195bc1a1a8",
   "metadata": {
    "id": "d95e92d2-4978-49df-86fa-7b195bc1a1a8"
   },
   "outputs": [],
   "source": [
    "df2['VClass'].value_counts().index"
   ]
  },
  {
   "cell_type": "code",
   "execution_count": null,
   "id": "3b51e586-d855-4b52-8f08-d5e40bd244b3",
   "metadata": {},
   "outputs": [],
   "source": [
    "base_color = sb.color_palette()[0]\n",
    "sb.boxplot(data=df2, x='VClass', y='comb', color=base_color)\n",
    "plt.xticks(rotation=90);"
   ]
  },
  {
   "cell_type": "code",
   "execution_count": null,
   "id": "bd0dc8a0-b958-4662-8c44-70574f358840",
   "metadata": {},
   "outputs": [],
   "source": []
  },
  {
   "cell_type": "markdown",
   "id": "2f9406f0",
   "metadata": {},
   "source": [
    "## Q10) From the plots you've made, classify which is bivariate and univariate.\n",
    "- Write down your classifiation in a Markdown cell or a commented code <span style=\"color:red\">(1 mark)  </span>"
   ]
  },
  {
   "cell_type": "code",
   "execution_count": null,
   "id": "83bf6218",
   "metadata": {},
   "outputs": [],
   "source": [
    "plt.scatter(data = df, x = 'R&D_Spend', y = 'Profit');\n",
    "#sb.regplot(data = df2, x = 'R&D_Spend', y = 'Profit', fit_reg = False);\n",
    "plt.xlabel('R&D_Spend');\n",
    "plt.ylabel('Profit');"
   ]
  },
  {
   "cell_type": "code",
   "execution_count": null,
   "id": "c173611f-b25b-4dc6-8549-27c4c186713f",
   "metadata": {},
   "outputs": [],
   "source": [
    "sb.heatmap(pd.crosstab(df.State, df.Rank), annot=True, fmt='d');"
   ]
  },
  {
   "cell_type": "code",
   "execution_count": null,
   "id": "d6059ebd-ee14-4c38-bb76-1175c2c59628",
   "metadata": {},
   "outputs": [],
   "source": [
    "#univariate\n",
    "# Add your code here\n",
    "plt.hist(data = df, x = 'Profit', bins = 10);\n"
   ]
  },
  {
   "cell_type": "code",
   "execution_count": null,
   "id": "c4a2423c-c3d6-4f77-bb53-5d735a1adf5c",
   "metadata": {},
   "outputs": [],
   "source": [
    "base_color = sb.color_palette()[0]\n",
    "\n",
    "# Plot the Pokemon type on a Vertical bar chart\n",
    "sb.countplot(data=df, x='Rank', color=base_color);\n",
    "\n",
    "# Use xticks to rotate the category labels (not axes) counter-clockwise\n",
    "plt.xticks(rotation=90);"
   ]
  },
  {
   "cell_type": "markdown",
   "id": "f5f567c5-6a3a-4558-a553-e19491bba4c6",
   "metadata": {
    "id": "f5f567c5-6a3a-4558-a553-e19491bba4c6"
   },
   "source": [
    "# End of questions!\n",
    "--------------------------------------------\n"
   ]
  }
 ],
 "metadata": {
  "colab": {
   "provenance": []
  },
  "kernelspec": {
   "display_name": "Python 3 (ipykernel)",
   "language": "python",
   "name": "python3"
  },
  "language_info": {
   "codemirror_mode": {
    "name": "ipython",
    "version": 3
   },
   "file_extension": ".py",
   "mimetype": "text/x-python",
   "name": "python",
   "nbconvert_exporter": "python",
   "pygments_lexer": "ipython3",
   "version": "3.13.0"
  }
 },
 "nbformat": 4,
 "nbformat_minor": 5
}
